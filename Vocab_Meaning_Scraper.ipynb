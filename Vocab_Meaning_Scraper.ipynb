{
 "cells": [
  {
   "cell_type": "code",
   "execution_count": 1,
   "metadata": {},
   "outputs": [
    {
     "name": "stdout",
     "output_type": "stream",
     "text": [
      "Requirement already satisfied: selenium in /home/vishu/anaconda3/lib/python3.9/site-packages (4.11.2)\n",
      "Requirement already satisfied: trio~=0.17 in /home/vishu/anaconda3/lib/python3.9/site-packages (from selenium) (0.22.2)\n",
      "Requirement already satisfied: certifi>=2021.10.8 in /home/vishu/anaconda3/lib/python3.9/site-packages (from selenium) (2022.9.14)\n",
      "Requirement already satisfied: urllib3[socks]<3,>=1.26 in /home/vishu/anaconda3/lib/python3.9/site-packages (from selenium) (1.26.11)\n",
      "Requirement already satisfied: trio-websocket~=0.9 in /home/vishu/anaconda3/lib/python3.9/site-packages (from selenium) (0.10.3)\n",
      "Requirement already satisfied: attrs>=20.1.0 in /home/vishu/anaconda3/lib/python3.9/site-packages (from trio~=0.17->selenium) (21.4.0)\n",
      "Requirement already satisfied: sortedcontainers in /home/vishu/anaconda3/lib/python3.9/site-packages (from trio~=0.17->selenium) (2.4.0)\n",
      "Requirement already satisfied: exceptiongroup>=1.0.0rc9 in /home/vishu/anaconda3/lib/python3.9/site-packages (from trio~=0.17->selenium) (1.1.2)\n",
      "Requirement already satisfied: outcome in /home/vishu/anaconda3/lib/python3.9/site-packages (from trio~=0.17->selenium) (1.2.0)\n",
      "Requirement already satisfied: sniffio in /home/vishu/anaconda3/lib/python3.9/site-packages (from trio~=0.17->selenium) (1.2.0)\n",
      "Requirement already satisfied: idna in /home/vishu/anaconda3/lib/python3.9/site-packages (from trio~=0.17->selenium) (3.3)\n",
      "Requirement already satisfied: wsproto>=0.14 in /home/vishu/anaconda3/lib/python3.9/site-packages (from trio-websocket~=0.9->selenium) (1.2.0)\n",
      "Requirement already satisfied: PySocks!=1.5.7,<2.0,>=1.5.6 in /home/vishu/anaconda3/lib/python3.9/site-packages (from urllib3[socks]<3,>=1.26->selenium) (1.7.1)\n",
      "Requirement already satisfied: h11<1,>=0.9.0 in /home/vishu/anaconda3/lib/python3.9/site-packages (from wsproto>=0.14->trio-websocket~=0.9->selenium) (0.14.0)\n"
     ]
    }
   ],
   "source": [
    "import pandas as pd\n",
    "import numpy as np\n",
    "\n",
    "import requests\n",
    "\n",
    "from bs4 import BeautifulSoup\n",
    "\n",
    "!pip install selenium\n",
    "from selenium import webdriver\n",
    "import re\n",
    "\n",
    "!pip install pdfquery\n",
    "from pdfquery import PDFQuery\n",
    "\n",
    "import warnings; warnings.filterwarnings('ignore')"
   ]
  },
  {
   "cell_type": "code",
   "execution_count": 4,
   "metadata": {},
   "outputs": [],
   "source": [
    "\n",
    "df = pd.read_excel(r\"GregMat_list_with_meaning.xlsx\",\"Sheet1\")\n",
    "renamer = [[0,1],[9,10],[17,18]]"
   ]
  },
  {
   "cell_type": "code",
   "execution_count": 5,
   "metadata": {},
   "outputs": [
    {
     "name": "stdout",
     "output_type": "stream",
     "text": [
      "[0, 1]\n",
      "[9, 10]\n",
      "[17, 18]\n"
     ]
    }
   ],
   "source": [
    "\n",
    "df_words = pd.DataFrame()\n",
    "for i in range(len(renamer)):\n",
    "    print(renamer[i])\n",
    "    df_temp = df.iloc[:,renamer[i]].dropna(how='all')\n",
    "    df_temp.columns = ['WORD', 'MEANING']\n",
    "    df_words = df_words.append(df_temp)"
   ]
  },
  {
   "cell_type": "code",
   "execution_count": 6,
   "metadata": {},
   "outputs": [
    {
     "data": {
      "text/plain": [
       "Group 22    30\n",
       "Group 10    30\n",
       "Group 8     30\n",
       "Group 7     30\n",
       "Group 6     30\n",
       "Group 5     30\n",
       "Group 4     30\n",
       "Group 3     30\n",
       "Group 27    30\n",
       "Group 26    30\n",
       "Group 25    30\n",
       "Group 24    30\n",
       "Group 23    30\n",
       "Group 9     30\n",
       "Group 21    30\n",
       "Group 2     30\n",
       "Group 19    30\n",
       "Group 18    30\n",
       "Group 17    30\n",
       "Group 16    30\n",
       "Group 14    30\n",
       "Group 13    30\n",
       "Group 12    30\n",
       "Group 11    30\n",
       "Group 20    29\n",
       "Group 1     29\n",
       "Name: GROUP, dtype: int64"
      ]
     },
     "execution_count": 6,
     "metadata": {},
     "output_type": "execute_result"
    }
   ],
   "source": [
    "df_words['GROUP'] = df_words['WORD'].apply(lambda x: x if 'Group ' in str(x) else np.nan)\n",
    "df_words[['WORD','GROUP']] = df_words[['WORD','GROUP']].fillna(method = 'ffill')\n",
    "df_words = df_words[df_words['WORD'].apply(lambda x: x.split()[0] not in ['Group','Take','Word'])]\n",
    "df_words2 = df_words.dropna(how = 'any').groupby(['GROUP','WORD'])['MEANING'].apply(lambda x: \"\\n\".join(x)).reset_index()\n",
    "df_words2['GROUP NO'] = df_words2['GROUP'].apply(lambda x: int(x.split()[-1]))\n",
    "df_words2['GROUP'].value_counts()"
   ]
  },
  {
   "cell_type": "code",
   "execution_count": 7,
   "metadata": {},
   "outputs": [
    {
     "ename": "AttributeError",
     "evalue": "module 'pandas' has no attribute 'read_pdf'",
     "output_type": "error",
     "traceback": [
      "\u001b[0;31m---------------------------------------------------------------------------\u001b[0m",
      "\u001b[0;31mAttributeError\u001b[0m                            Traceback (most recent call last)",
      "\u001b[0;32m/tmp/ipykernel_7215/3730051503.py\u001b[0m in \u001b[0;36m<module>\u001b[0;34m\u001b[0m\n\u001b[0;32m----> 1\u001b[0;31m \u001b[0mpd\u001b[0m\u001b[0;34m.\u001b[0m\u001b[0mread_pdf\u001b[0m\u001b[0;34m(\u001b[0m\u001b[0;34mr\"Set_28.pdf\"\u001b[0m\u001b[0;34m)\u001b[0m\u001b[0;34m\u001b[0m\u001b[0;34m\u001b[0m\u001b[0m\n\u001b[0m",
      "\u001b[0;32m~/anaconda3/lib/python3.9/site-packages/pandas/__init__.py\u001b[0m in \u001b[0;36m__getattr__\u001b[0;34m(name)\u001b[0m\n\u001b[1;32m    259\u001b[0m         \u001b[0;32mreturn\u001b[0m \u001b[0m_SparseArray\u001b[0m\u001b[0;34m\u001b[0m\u001b[0;34m\u001b[0m\u001b[0m\n\u001b[1;32m    260\u001b[0m \u001b[0;34m\u001b[0m\u001b[0m\n\u001b[0;32m--> 261\u001b[0;31m     \u001b[0;32mraise\u001b[0m \u001b[0mAttributeError\u001b[0m\u001b[0;34m(\u001b[0m\u001b[0;34mf\"module 'pandas' has no attribute '{name}'\"\u001b[0m\u001b[0;34m)\u001b[0m\u001b[0;34m\u001b[0m\u001b[0;34m\u001b[0m\u001b[0m\n\u001b[0m\u001b[1;32m    262\u001b[0m \u001b[0;34m\u001b[0m\u001b[0m\n\u001b[1;32m    263\u001b[0m \u001b[0;34m\u001b[0m\u001b[0m\n",
      "\u001b[0;31mAttributeError\u001b[0m: module 'pandas' has no attribute 'read_pdf'"
     ]
    }
   ],
   "source": [
    "pd.read_pdf(r\"Set_28.pdf\")"
   ]
  },
  {
   "cell_type": "code",
   "execution_count": 10,
   "metadata": {},
   "outputs": [
    {
     "name": "stdout",
     "output_type": "stream",
     "text": [
      "Collecting pdfquery\n",
      "  Downloading pdfquery-0.4.3.tar.gz (17 kB)\n",
      "  Preparing metadata (setup.py) ... \u001b[?25ldone\n",
      "\u001b[?25hRequirement already satisfied: cssselect>=0.7.1 in /home/vishu/anaconda3/lib/python3.9/site-packages (from pdfquery) (1.1.0)\n",
      "Requirement already satisfied: chardet in /home/vishu/anaconda3/lib/python3.9/site-packages (from pdfquery) (4.0.0)\n",
      "Requirement already satisfied: lxml>=3.0 in /home/vishu/anaconda3/lib/python3.9/site-packages (from pdfquery) (4.9.1)\n",
      "Collecting pdfminer.six\n",
      "  Downloading pdfminer.six-20221105-py3-none-any.whl (5.6 MB)\n",
      "\u001b[2K     \u001b[90m━━━━━━━━━━━━━━━━━━━━━━━━━━━━━━━━━━━━━━━━\u001b[0m \u001b[32m5.6/5.6 MB\u001b[0m \u001b[31m3.3 MB/s\u001b[0m eta \u001b[36m0:00:00\u001b[0m:00:01\u001b[0m00:01\u001b[0m\n",
      "\u001b[?25hCollecting pyquery>=1.2.2\n",
      "  Downloading pyquery-2.0.0-py3-none-any.whl (22 kB)\n",
      "Collecting roman>=1.4.0\n",
      "  Downloading roman-4.1-py3-none-any.whl (5.5 kB)\n",
      "Collecting cssselect>=0.7.1\n",
      "  Downloading cssselect-1.2.0-py2.py3-none-any.whl (18 kB)\n",
      "Requirement already satisfied: cryptography>=36.0.0 in /home/vishu/anaconda3/lib/python3.9/site-packages (from pdfminer.six->pdfquery) (37.0.1)\n",
      "Requirement already satisfied: charset-normalizer>=2.0.0 in /home/vishu/anaconda3/lib/python3.9/site-packages (from pdfminer.six->pdfquery) (2.0.4)\n",
      "Requirement already satisfied: cffi>=1.12 in /home/vishu/anaconda3/lib/python3.9/site-packages (from cryptography>=36.0.0->pdfminer.six->pdfquery) (1.15.1)\n",
      "Requirement already satisfied: pycparser in /home/vishu/anaconda3/lib/python3.9/site-packages (from cffi>=1.12->cryptography>=36.0.0->pdfminer.six->pdfquery) (2.21)\n",
      "Building wheels for collected packages: pdfquery\n",
      "  Building wheel for pdfquery (setup.py) ... \u001b[?25ldone\n",
      "\u001b[?25h  Created wheel for pdfquery: filename=pdfquery-0.4.3-py3-none-any.whl size=16783 sha256=19419d07ca986ab4aca155eba35de54946f709aa79def3f0d9892e2ca75764f2\n",
      "  Stored in directory: /home/vishu/.cache/pip/wheels/9a/12/58/c1c92713b406092cae17f51b6d67ee96c60675c78e7278eb38\n",
      "Successfully built pdfquery\n",
      "Installing collected packages: roman, cssselect, pyquery, pdfminer.six, pdfquery\n",
      "  Attempting uninstall: cssselect\n",
      "    Found existing installation: cssselect 1.1.0\n",
      "    Uninstalling cssselect-1.1.0:\n",
      "      Successfully uninstalled cssselect-1.1.0\n",
      "Successfully installed cssselect-1.2.0 pdfminer.six-20221105 pdfquery-0.4.3 pyquery-2.0.0 roman-4.1\n",
      "['Set 28 ', 'Study online at https://quizlet.com/_8g4yzj ', '1. quibble: a slight criticism about a trivial matter; adverse comment; nitpicking ', '2. gauche: lacking ease or grace; unsophisticated and socially awkward; inelegant; ', 'ungainly ', '3. wily: skilled at gaining an advantage, especially deceitfully; clever; shrewd, crafty ', '4. sophistry: the use of fallacious arguments, especially with the intention of de- ', 'ceiving; specious arguments; fallacious argument; sophism; casuistry ', '5. agitated: feeling or appearing troubled or nervous; perturbed; flustered; un- ', 'nerved; ruffled; rattled ', '6. quarantined: isolated ', '7. coy: (especially with reference to a woman) making a pretense of shyness or ', 'modesty that is intended to be alluring; reluctant to give details, especially about ', 'something regarded as sensitive; arch; simpering; demure; modest ', '8. hysterical: deriving from or affected by uncontrolled extreme emotion; over- ', 'wrought; unrestrained; frenzied; (informal) extremely funny ', '9. recant: say that one no longer holds an opinion or belief, especially one consid- ', \"ered heretical; disavow; forswear; change one's mind; retract \", '10. quandary: a state of perplexity or uncertainty over what to do in a difficult ', 'situation; a practical dilemma; impasse; stalemate ', '11. affront: an action or remark that causes outrage or offense; insult; offense; slight; ', 'snub; slur ', '12. endemic: (of a disease or social condition) found particularly in a specific area ', 'or group; (of a plant or animal) native and restricted to a certain place ', '13. abstract: consider (something) theoretically or separately from something else; ', 'extract or remove (something); used euphemistically to say that stolen something; ', '(abstract oneself) withdraw ', '14. burnish: polish up; buff up; enhance or perfect (something such as a reputation ', 'or a skill) ', '15. disperse: break up; split up; dissipate; scatter; go into different direction ', '16. enmity: the state or feeling of being actively opposed or hostile to someone or ', 'something; animosity; antipathy; animus; feud; discord; acrimony ', \"17. retiring: shy and fond of being on one's own; diffident, shrinking; self-effacing; \", 'unassuming ', '18. ravage: lay waste; devastate; leave in ruins; wreak havoc on; leave desolate; ', 'pillage ', '19. inchoate: beginning; rudimentary; confused or incoherent ', '20. impudent: not showing due respect for another person; impertinent; brazen; ', 'cheeky; presumptuous ', '21. redoubtable: (of a person) formidable, especially as an opponent; fearsome; ', 'awe-inspiring ', '', 'Set 28 ', 'Study online at https://quizlet.com/_8g4yzj ', '22. shrill: high-pitched; piercing; screeching ', '23. deprecate: express disapproval of; frown on; object to ', '24. disdain: scorn; deride; regard with contempt; sneer at; spurn; rebuff ', '25. quash: reject or void, especially by legal procedure; cancel; rescind; suppress; ', 'put to an end; stamp out ', '26. distend: swell or cause to swell by pressure from inside; bulge; enlarge; puff ', 'out/up; blow up/out ', '27. penchant: liking; fondness; preference; inclination; bent; predilection; proclivity ', '28. abeyance: a state of suspension; a state of dormancy; a state of latency; ', 'pending; deferred; put off; postponed ', '29. august: respected and impressive; distinguished; eminent; venerable; hallowed; ', 'illustrious; esteemed; exalted; of distinction; of repute; aristocratic; imposing ', '30. substantiate: prove; show to be true; give substance to; support; justify; vindi- ', 'cate; corroborate; endorse; give credence to; vouch for, attest to ', '']\n"
     ]
    }
   ],
   "source": [
    "pdf = PDFQuery('Set_28.pdf')\n",
    "pdf.load()\n",
    "\n",
    "# Use CSS-like selectors to locate the elements\n",
    "text_elements = pdf.pq('LTTextLineHorizontal')\n",
    "\n",
    "# Extract the text from the elements\n",
    "text = [t.text for t in text_elements]\n",
    "\n",
    "print(text)"
   ]
  },
  {
   "cell_type": "code",
   "execution_count": null,
   "metadata": {},
   "outputs": [],
   "source": []
  }
 ],
 "metadata": {
  "kernelspec": {
   "display_name": "Python 3.9.13 ('base')",
   "language": "python",
   "name": "python3"
  },
  "language_info": {
   "codemirror_mode": {
    "name": "ipython",
    "version": 3
   },
   "file_extension": ".py",
   "mimetype": "text/x-python",
   "name": "python",
   "nbconvert_exporter": "python",
   "pygments_lexer": "ipython3",
   "version": "3.9.13"
  },
  "orig_nbformat": 4,
  "vscode": {
   "interpreter": {
    "hash": "5ddc26d5639259490efaef57cadad5e39c604e26c3eb2b4718e08a3687ad4e35"
   }
  }
 },
 "nbformat": 4,
 "nbformat_minor": 2
}
